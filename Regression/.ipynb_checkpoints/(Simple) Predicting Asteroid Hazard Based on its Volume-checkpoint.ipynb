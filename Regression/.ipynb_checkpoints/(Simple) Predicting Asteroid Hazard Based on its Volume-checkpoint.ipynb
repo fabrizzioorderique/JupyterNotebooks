{
 "cells": [
  {
   "cell_type": "code",
   "execution_count": 33,
   "metadata": {},
   "outputs": [],
   "source": [
    "####PREDICTING AN ASTEROIDS HAZARD BASED ON IT'S VOLUME... WILL THIS BE A LINEAR RELATIONSHIP?\n",
    "\n",
    "\n",
    "import matplotlib.pyplot as plt\n",
    "import pandas as pd\n",
    "import pylab as pl\n",
    "import numpy as np\n",
    "import math\n",
    "%matplotlib inline"
   ]
  },
  {
   "cell_type": "code",
   "execution_count": 23,
   "metadata": {},
   "outputs": [
    {
     "data": {
      "text/html": [
       "<div>\n",
       "<style scoped>\n",
       "    .dataframe tbody tr th:only-of-type {\n",
       "        vertical-align: middle;\n",
       "    }\n",
       "\n",
       "    .dataframe tbody tr th {\n",
       "        vertical-align: top;\n",
       "    }\n",
       "\n",
       "    .dataframe thead th {\n",
       "        text-align: right;\n",
       "    }\n",
       "</style>\n",
       "<table border=\"1\" class=\"dataframe\">\n",
       "  <thead>\n",
       "    <tr style=\"text-align: right;\">\n",
       "      <th></th>\n",
       "      <th>Object Name</th>\n",
       "      <th>Period Start</th>\n",
       "      <th>Period End</th>\n",
       "      <th>Possible Impacts</th>\n",
       "      <th>Cumulative Impact Probability</th>\n",
       "      <th>Asteroid Velocity</th>\n",
       "      <th>Asteroid Magnitude</th>\n",
       "      <th>Asteroid Diameter (km)</th>\n",
       "      <th>Cumulative Palermo Scale</th>\n",
       "      <th>Maximum Palermo Scale</th>\n",
       "      <th>Maximum Torino Scale</th>\n",
       "    </tr>\n",
       "  </thead>\n",
       "  <tbody>\n",
       "    <tr>\n",
       "      <th>0</th>\n",
       "      <td>2006 WP1</td>\n",
       "      <td>2017</td>\n",
       "      <td>2017</td>\n",
       "      <td>1</td>\n",
       "      <td>5.200000e-09</td>\n",
       "      <td>17.77</td>\n",
       "      <td>28.3</td>\n",
       "      <td>0.007</td>\n",
       "      <td>-8.31</td>\n",
       "      <td>-8.31</td>\n",
       "      <td>0</td>\n",
       "    </tr>\n",
       "    <tr>\n",
       "      <th>1</th>\n",
       "      <td>2013 YB</td>\n",
       "      <td>2017</td>\n",
       "      <td>2046</td>\n",
       "      <td>23</td>\n",
       "      <td>7.600000e-05</td>\n",
       "      <td>8.98</td>\n",
       "      <td>31.4</td>\n",
       "      <td>0.002</td>\n",
       "      <td>-6.60</td>\n",
       "      <td>-6.96</td>\n",
       "      <td>0</td>\n",
       "    </tr>\n",
       "    <tr>\n",
       "      <th>2</th>\n",
       "      <td>2008 US</td>\n",
       "      <td>2017</td>\n",
       "      <td>2062</td>\n",
       "      <td>30</td>\n",
       "      <td>1.600000e-05</td>\n",
       "      <td>18.33</td>\n",
       "      <td>31.4</td>\n",
       "      <td>0.002</td>\n",
       "      <td>-6.48</td>\n",
       "      <td>-6.87</td>\n",
       "      <td>0</td>\n",
       "    </tr>\n",
       "  </tbody>\n",
       "</table>\n",
       "</div>"
      ],
      "text/plain": [
       "  Object Name  Period Start  Period End  Possible Impacts  \\\n",
       "0    2006 WP1          2017        2017                 1   \n",
       "1     2013 YB          2017        2046                23   \n",
       "2     2008 US          2017        2062                30   \n",
       "\n",
       "   Cumulative Impact Probability  Asteroid Velocity  Asteroid Magnitude  \\\n",
       "0                   5.200000e-09              17.77                28.3   \n",
       "1                   7.600000e-05               8.98                31.4   \n",
       "2                   1.600000e-05              18.33                31.4   \n",
       "\n",
       "   Asteroid Diameter (km)  Cumulative Palermo Scale  Maximum Palermo Scale  \\\n",
       "0                   0.007                     -8.31                  -8.31   \n",
       "1                   0.002                     -6.60                  -6.96   \n",
       "2                   0.002                     -6.48                  -6.87   \n",
       "\n",
       "  Maximum Torino Scale  \n",
       "0                    0  \n",
       "1                    0  \n",
       "2                    0  "
      ]
     },
     "execution_count": 23,
     "metadata": {},
     "output_type": "execute_result"
    }
   ],
   "source": [
    "##let's get our asteroids dataset\n",
    "impacts = pd.read_csv(\"C:\\\\Users\\\\fabri\\\\OneDrive\\\\Documents\\\\DasText\\\\csvFiles\\\\impacts.csv\")\n",
    "impacts.head(3)"
   ]
  },
  {
   "cell_type": "code",
   "execution_count": 42,
   "metadata": {},
   "outputs": [
    {
     "data": {
      "text/html": [
       "<div>\n",
       "<style scoped>\n",
       "    .dataframe tbody tr th:only-of-type {\n",
       "        vertical-align: middle;\n",
       "    }\n",
       "\n",
       "    .dataframe tbody tr th {\n",
       "        vertical-align: top;\n",
       "    }\n",
       "\n",
       "    .dataframe thead th {\n",
       "        text-align: right;\n",
       "    }\n",
       "</style>\n",
       "<table border=\"1\" class=\"dataframe\">\n",
       "  <thead>\n",
       "    <tr style=\"text-align: right;\">\n",
       "      <th></th>\n",
       "      <th>Object Name</th>\n",
       "      <th>Period Start</th>\n",
       "      <th>Period End</th>\n",
       "      <th>Possible Impacts</th>\n",
       "      <th>Cumulative Impact Probability</th>\n",
       "      <th>Asteroid Velocity</th>\n",
       "      <th>Asteroid Magnitude</th>\n",
       "      <th>Diameter</th>\n",
       "      <th>Cumulative Palermo Scale</th>\n",
       "      <th>PalermoScale</th>\n",
       "      <th>Maximum Torino Scale</th>\n",
       "      <th>Volume</th>\n",
       "      <th>logVolume</th>\n",
       "    </tr>\n",
       "  </thead>\n",
       "  <tbody>\n",
       "    <tr>\n",
       "      <th>0</th>\n",
       "      <td>2006 WP1</td>\n",
       "      <td>2017</td>\n",
       "      <td>2017</td>\n",
       "      <td>1</td>\n",
       "      <td>5.200000e-09</td>\n",
       "      <td>17.77</td>\n",
       "      <td>28.3</td>\n",
       "      <td>0.007</td>\n",
       "      <td>-8.31</td>\n",
       "      <td>-8.31</td>\n",
       "      <td>0</td>\n",
       "      <td>1.795944e-07</td>\n",
       "      <td>-6.745707</td>\n",
       "    </tr>\n",
       "    <tr>\n",
       "      <th>1</th>\n",
       "      <td>2013 YB</td>\n",
       "      <td>2017</td>\n",
       "      <td>2046</td>\n",
       "      <td>23</td>\n",
       "      <td>7.600000e-05</td>\n",
       "      <td>8.98</td>\n",
       "      <td>31.4</td>\n",
       "      <td>0.002</td>\n",
       "      <td>-6.60</td>\n",
       "      <td>-6.96</td>\n",
       "      <td>0</td>\n",
       "      <td>4.188790e-09</td>\n",
       "      <td>-8.377911</td>\n",
       "    </tr>\n",
       "    <tr>\n",
       "      <th>2</th>\n",
       "      <td>2008 US</td>\n",
       "      <td>2017</td>\n",
       "      <td>2062</td>\n",
       "      <td>30</td>\n",
       "      <td>1.600000e-05</td>\n",
       "      <td>18.33</td>\n",
       "      <td>31.4</td>\n",
       "      <td>0.002</td>\n",
       "      <td>-6.48</td>\n",
       "      <td>-6.87</td>\n",
       "      <td>0</td>\n",
       "      <td>4.188790e-09</td>\n",
       "      <td>-8.377911</td>\n",
       "    </tr>\n",
       "    <tr>\n",
       "      <th>3</th>\n",
       "      <td>2010 VR139</td>\n",
       "      <td>2017</td>\n",
       "      <td>2076</td>\n",
       "      <td>24</td>\n",
       "      <td>2.000000e-07</td>\n",
       "      <td>4.99</td>\n",
       "      <td>26.7</td>\n",
       "      <td>0.016</td>\n",
       "      <td>-6.83</td>\n",
       "      <td>-6.95</td>\n",
       "      <td>0</td>\n",
       "      <td>2.144661e-06</td>\n",
       "      <td>-5.668641</td>\n",
       "    </tr>\n",
       "    <tr>\n",
       "      <th>4</th>\n",
       "      <td>2015 ME131</td>\n",
       "      <td>2017</td>\n",
       "      <td>2096</td>\n",
       "      <td>85</td>\n",
       "      <td>2.300000e-08</td>\n",
       "      <td>19.46</td>\n",
       "      <td>19.2</td>\n",
       "      <td>0.497</td>\n",
       "      <td>-3.85</td>\n",
       "      <td>-4.30</td>\n",
       "      <td>0</td>\n",
       "      <td>6.427880e-02</td>\n",
       "      <td>-1.191932</td>\n",
       "    </tr>\n",
       "    <tr>\n",
       "      <th>...</th>\n",
       "      <td>...</td>\n",
       "      <td>...</td>\n",
       "      <td>...</td>\n",
       "      <td>...</td>\n",
       "      <td>...</td>\n",
       "      <td>...</td>\n",
       "      <td>...</td>\n",
       "      <td>...</td>\n",
       "      <td>...</td>\n",
       "      <td>...</td>\n",
       "      <td>...</td>\n",
       "      <td>...</td>\n",
       "      <td>...</td>\n",
       "    </tr>\n",
       "    <tr>\n",
       "      <th>678</th>\n",
       "      <td>2014 KW76</td>\n",
       "      <td>2115</td>\n",
       "      <td>2115</td>\n",
       "      <td>1</td>\n",
       "      <td>2.800000e-07</td>\n",
       "      <td>15.00</td>\n",
       "      <td>28.0</td>\n",
       "      <td>0.008</td>\n",
       "      <td>-8.22</td>\n",
       "      <td>-8.22</td>\n",
       "      <td>0</td>\n",
       "      <td>2.680826e-07</td>\n",
       "      <td>-6.571731</td>\n",
       "    </tr>\n",
       "    <tr>\n",
       "      <th>679</th>\n",
       "      <td>2012 FN</td>\n",
       "      <td>2115</td>\n",
       "      <td>2115</td>\n",
       "      <td>1</td>\n",
       "      <td>2.300000e-08</td>\n",
       "      <td>3.27</td>\n",
       "      <td>29.2</td>\n",
       "      <td>0.005</td>\n",
       "      <td>-10.18</td>\n",
       "      <td>-10.20</td>\n",
       "      <td>0</td>\n",
       "      <td>6.544985e-08</td>\n",
       "      <td>-7.184091</td>\n",
       "    </tr>\n",
       "    <tr>\n",
       "      <th>680</th>\n",
       "      <td>101955 Bennu (1999 RQ36)</td>\n",
       "      <td>2175</td>\n",
       "      <td>2199</td>\n",
       "      <td>78</td>\n",
       "      <td>3.700000e-04</td>\n",
       "      <td>5.99</td>\n",
       "      <td>20.2</td>\n",
       "      <td>0.490</td>\n",
       "      <td>-1.71</td>\n",
       "      <td>-2.32</td>\n",
       "      <td>(*)</td>\n",
       "      <td>6.160087e-02</td>\n",
       "      <td>-1.210413</td>\n",
       "    </tr>\n",
       "    <tr>\n",
       "      <th>681</th>\n",
       "      <td>410777 (2009 FD)</td>\n",
       "      <td>2185</td>\n",
       "      <td>2198</td>\n",
       "      <td>7</td>\n",
       "      <td>1.600000e-03</td>\n",
       "      <td>15.87</td>\n",
       "      <td>22.1</td>\n",
       "      <td>0.160</td>\n",
       "      <td>-1.78</td>\n",
       "      <td>-1.83</td>\n",
       "      <td>(*)</td>\n",
       "      <td>2.144661e-03</td>\n",
       "      <td>-2.668641</td>\n",
       "    </tr>\n",
       "    <tr>\n",
       "      <th>682</th>\n",
       "      <td>29075 (1950 DA)</td>\n",
       "      <td>2880</td>\n",
       "      <td>2880</td>\n",
       "      <td>1</td>\n",
       "      <td>1.200000e-04</td>\n",
       "      <td>14.10</td>\n",
       "      <td>17.6</td>\n",
       "      <td>1.300</td>\n",
       "      <td>-1.42</td>\n",
       "      <td>-1.42</td>\n",
       "      <td>(*)</td>\n",
       "      <td>1.150347e+00</td>\n",
       "      <td>0.060829</td>\n",
       "    </tr>\n",
       "  </tbody>\n",
       "</table>\n",
       "<p>683 rows × 13 columns</p>\n",
       "</div>"
      ],
      "text/plain": [
       "                  Object Name  Period Start  Period End  Possible Impacts  \\\n",
       "0                    2006 WP1          2017        2017                 1   \n",
       "1                     2013 YB          2017        2046                23   \n",
       "2                     2008 US          2017        2062                30   \n",
       "3                  2010 VR139          2017        2076                24   \n",
       "4                  2015 ME131          2017        2096                85   \n",
       "..                        ...           ...         ...               ...   \n",
       "678                 2014 KW76          2115        2115                 1   \n",
       "679                   2012 FN          2115        2115                 1   \n",
       "680  101955 Bennu (1999 RQ36)          2175        2199                78   \n",
       "681          410777 (2009 FD)          2185        2198                 7   \n",
       "682           29075 (1950 DA)          2880        2880                 1   \n",
       "\n",
       "     Cumulative Impact Probability  Asteroid Velocity  Asteroid Magnitude  \\\n",
       "0                     5.200000e-09              17.77                28.3   \n",
       "1                     7.600000e-05               8.98                31.4   \n",
       "2                     1.600000e-05              18.33                31.4   \n",
       "3                     2.000000e-07               4.99                26.7   \n",
       "4                     2.300000e-08              19.46                19.2   \n",
       "..                             ...                ...                 ...   \n",
       "678                   2.800000e-07              15.00                28.0   \n",
       "679                   2.300000e-08               3.27                29.2   \n",
       "680                   3.700000e-04               5.99                20.2   \n",
       "681                   1.600000e-03              15.87                22.1   \n",
       "682                   1.200000e-04              14.10                17.6   \n",
       "\n",
       "     Diameter  Cumulative Palermo Scale  PalermoScale Maximum Torino Scale  \\\n",
       "0       0.007                     -8.31         -8.31                    0   \n",
       "1       0.002                     -6.60         -6.96                    0   \n",
       "2       0.002                     -6.48         -6.87                    0   \n",
       "3       0.016                     -6.83         -6.95                    0   \n",
       "4       0.497                     -3.85         -4.30                    0   \n",
       "..        ...                       ...           ...                  ...   \n",
       "678     0.008                     -8.22         -8.22                    0   \n",
       "679     0.005                    -10.18        -10.20                    0   \n",
       "680     0.490                     -1.71         -2.32                  (*)   \n",
       "681     0.160                     -1.78         -1.83                  (*)   \n",
       "682     1.300                     -1.42         -1.42                  (*)   \n",
       "\n",
       "           Volume  logVolume  \n",
       "0    1.795944e-07  -6.745707  \n",
       "1    4.188790e-09  -8.377911  \n",
       "2    4.188790e-09  -8.377911  \n",
       "3    2.144661e-06  -5.668641  \n",
       "4    6.427880e-02  -1.191932  \n",
       "..            ...        ...  \n",
       "678  2.680826e-07  -6.571731  \n",
       "679  6.544985e-08  -7.184091  \n",
       "680  6.160087e-02  -1.210413  \n",
       "681  2.144661e-03  -2.668641  \n",
       "682  1.150347e+00   0.060829  \n",
       "\n",
       "[683 rows x 13 columns]"
      ]
     },
     "execution_count": 42,
     "metadata": {},
     "output_type": "execute_result"
    }
   ],
   "source": [
    "##lets add a volume column:\n",
    "impacts2 = impacts.rename(columns={\"Asteroid Diameter (km)\":\"Diameter\",\"Maximum Palermo Scale\":\"PalermoScale\"})\n",
    "impacts2['Volume'] = impacts2.apply(lambda row: (4/3)*np.pi*(row.Diameter/2)**3, axis =1)\n",
    "#NOTE: np.log10 is used because math.log10 expects single value, not a series, and to scale far out data points!\n",
    "impacts2['logVolume'] = impacts2.apply(lambda row: np.log10(row.Volume), axis =1)\n",
    "impacts2"
   ]
  },
  {
   "cell_type": "code",
   "execution_count": 43,
   "metadata": {},
   "outputs": [
    {
     "data": {
      "text/plain": [
       "Text(0, 0.5, 'PALERMO HAZARD VALUE')"
      ]
     },
     "execution_count": 43,
     "metadata": {},
     "output_type": "execute_result"
    },
    {
     "data": {
      "image/png": "[encoded data removed]",
      "text/plain": [
       "<Figure size 432x288 with 1 Axes>"
      ]
     },
     "metadata": {
      "needs_background": "light"
     },
     "output_type": "display_data"
    }
   ],
   "source": [
    "#log(Volume) vs Maximum Palermo Scale\n",
    "plt.scatter(impacts2.logVolume,impacts2.PalermoScale,color=\"blue\") \n",
    "plt.title(\"PALMERO HAZARD VALUE AS A FUNCTION OF ASTEROID VOLUME\")\n",
    "plt.xlabel(\"ASTEROID VOLUME (km)\")\n",
    "plt.ylabel(\"PALERMO HAZARD VALUE\")"
   ]
  },
  {
   "cell_type": "code",
   "execution_count": 8,
   "metadata": {},
   "outputs": [],
   "source": [
    "####GREAT! NOW LET'S SPLIT THE DATA INTO TRAINING AND TESTING VALUES"
   ]
  },
  {
   "cell_type": "code",
   "execution_count": 44,
   "metadata": {},
   "outputs": [],
   "source": [
    "##we need to create a mask to split the data in to 80% train, 20% test\n",
    "\n",
    "msk = np.random.rand(len(impacts2)) < 0.8 #doing this assigns a \"true or false\" for each row \n",
    "train = impacts2[msk] #our training data will be all those \"trues\"\n",
    "test = impacts2[~msk] #all the falses"
   ]
  },
  {
   "cell_type": "code",
   "execution_count": 46,
   "metadata": {},
   "outputs": [
    {
     "data": {
      "text/plain": [
       "Text(0, 0.5, 'PALERMO HAZARD VALUE')"
      ]
     },
     "execution_count": 46,
     "metadata": {},
     "output_type": "execute_result"
    },
    {
     "data": {
      "image/png": "[encoded data removed]",
      "text/plain": [
       "<Figure size 432x288 with 1 Axes>"
      ]
     },
     "metadata": {
      "needs_background": "light"
     },
     "output_type": "display_data"
    }
   ],
   "source": [
    "#now let's scatter plot the part of the data we selected as the training data! for engine size\n",
    "plt.scatter(train.logVolume, train.PalermoScale,  color='purple')\n",
    "plt.title(\"TRAINING DATA\")\n",
    "plt.xlabel(\"ASTEROID VOLUME (km)\")\n",
    "plt.ylabel(\"PALERMO HAZARD VALUE\")"
   ]
  },
  {
   "cell_type": "code",
   "execution_count": 47,
   "metadata": {},
   "outputs": [
    {
     "name": "stdout",
     "output_type": "stream",
     "text": [
      "Coefficients:  [[0.42899458]]\n",
      "Intercept:  [-4.50274982]\n"
     ]
    }
   ],
   "source": [
    "####let's make a linear regression model!\n",
    "from sklearn import linear_model\n",
    "regr = linear_model.LinearRegression() #makes the regression object\n",
    "train_x = np.asanyarray(train[['logVolume']]) #makes the independent column into numpy array\n",
    "train_y = np.asanyarray(train[['PalermoScale']]) #makes the dependent column into numpy array\n",
    "regr.fit(train_x, train_y) #fits the data using the regr object\n",
    "\n",
    "# The coefficients\n",
    "print ('Coefficients: ', regr.coef_)\n",
    "print ('Intercept: ',regr.intercept_)"
   ]
  },
  {
   "cell_type": "code",
   "execution_count": 48,
   "metadata": {},
   "outputs": [
    {
     "data": {
      "text/plain": [
       "Text(0, 0.5, 'PALERMO HAZARD VALUE')"
      ]
     },
     "execution_count": 48,
     "metadata": {},
     "output_type": "execute_result"
    },
    {
     "data": {
      "image/png": "[encoded data removed]",
      "text/plain": [
       "<Figure size 432x288 with 1 Axes>"
      ]
     },
     "metadata": {
      "needs_background": "light"
     },
     "output_type": "display_data"
    }
   ],
   "source": [
    "####PLOTTING THE FIT LINE OVER THE DATA\n",
    "plt.scatter(train.logVolume, train.PalermoScale,  color='purple')\n",
    "plt.plot(train_x, regr.coef_[0][0]*train_x + regr.intercept_[0], '-b')\n",
    "plt.title(\"TRAINING DATA WITH REGRESSION LINE\")\n",
    "plt.xlabel(\"ASTEROID VOLUME (km)\")\n",
    "plt.ylabel(\"PALERMO HAZARD VALUE\")"
   ]
  },
  {
   "cell_type": "code",
   "execution_count": 49,
   "metadata": {},
   "outputs": [
    {
     "name": "stdout",
     "output_type": "stream",
     "text": [
      "Mean absolute error: 1.09\n",
      "Residual sum of squares (MSE): 1.93\n",
      "R2-score: -4.58\n"
     ]
    }
   ],
   "source": [
    "####Evaluation\n",
    "\n",
    "#now we must evaluate the model using evaluation metrics\n",
    "## we will use MSE\n",
    "\n",
    "#let's import r2_score\n",
    "from sklearn.metrics import r2_score\n",
    "\n",
    "test_x = np.asanyarray(test[['logVolume']]) #make numpy arrays from out test set like we did for training\n",
    "test_y = np.asanyarray(test[['PalermoScale']])\n",
    "test_y_hat = regr.predict(test_x) #makes a list of predicted y's, or hazard scales, given x's\n",
    "\n",
    "##some evaluation metrics:\n",
    "print(\"Mean absolute error: %.2f\" % np.mean(np.absolute(test_y_hat - test_y)))\n",
    "print(\"Residual sum of squares (MSE): %.2f\" % np.mean((test_y_hat - test_y) ** 2))\n",
    "\n",
    "##our R^2 result\n",
    "print(\"R2-score: %.2f\" % r2_score(test_y_hat , test_y) ) #how well predicted y's fall in with the tested y's"
   ]
  },
  {
   "cell_type": "code",
   "execution_count": null,
   "metadata": {},
   "outputs": [],
   "source": [
    "### well that's not very good is it... NO CORRELATION BETWEEN VOLUME AND HAZARD LEVEL ON THE PALERMO SCALE!"
   ]
  }
 ],
 "metadata": {
  "kernelspec": {
   "display_name": "Python 3",
   "language": "python",
   "name": "python3"
  },
  "language_info": {
   "codemirror_mode": {
    "name": "ipython",
    "version": 3
   },
   "file_extension": ".py",
   "mimetype": "text/x-python",
   "name": "python",
   "nbconvert_exporter": "python",
   "pygments_lexer": "ipython3",
   "version": "3.7.6"
  }
 },
 "nbformat": 4,
 "nbformat_minor": 4
}
