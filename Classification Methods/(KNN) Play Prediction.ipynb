{
 "nbformat": 4,
 "nbformat_minor": 2,
 "metadata": {
  "language_info": {
   "name": "python",
   "codemirror_mode": {
    "name": "ipython",
    "version": 3
   },
   "version": "3.7.6-final"
  },
  "orig_nbformat": 2,
  "file_extension": ".py",
  "mimetype": "text/x-python",
  "name": "python",
  "npconvert_exporter": "python",
  "pygments_lexer": "ipython3",
  "version": 3,
  "kernelspec": {
   "name": "python3",
   "display_name": "Python 3"
  }
 },
 "cells": [
  {
   "cell_type": "code",
   "execution_count": 2,
   "metadata": {},
   "outputs": [],
   "source": [
    "####Can we use KNN to predict whether we should play or not?\n",
    "\n",
    "#Let's import needed libraries:\n",
    "import pandas as pd\n",
    "import numpy as np\n",
    "import matplotlib.pyplot as plt\n",
    "import matplotlib.ticker as ticker\n",
    "from matplotlib.ticker import NullFormatter\n",
    "from sklearn import preprocessing\n",
    "import itertools\n",
    "%matplotlib inline"
   ]
  },
  {
   "cell_type": "code",
   "execution_count": 3,
   "metadata": {},
   "outputs": [
    {
     "output_type": "execute_result",
     "data": {
      "text/plain": "     Outlook  Temperature  Humidity  Windy Play?\n0      sunny           85        85  False    no\n1      sunny           80        90   True    no\n2   overcast           83        78  False   yes\n3       rain           70        96  False   yes\n4       rain           68        80  False   yes\n5       rain           65        70   True    no\n6   overcast           64        65   True   yes\n7      sunny           72        95  False    no\n8      sunny           69        70  False   yes\n9       rain           75        80  False   yes\n10     sunny           75        70   True   yes\n11  overcast           72        90   True   yes\n12  overcast           81        75  False   yes\n13      rain           71        80   True    no",
      "text/html": "<div>\n<style scoped>\n    .dataframe tbody tr th:only-of-type {\n        vertical-align: middle;\n    }\n\n    .dataframe tbody tr th {\n        vertical-align: top;\n    }\n\n    .dataframe thead th {\n        text-align: right;\n    }\n</style>\n<table border=\"1\" class=\"dataframe\">\n  <thead>\n    <tr style=\"text-align: right;\">\n      <th></th>\n      <th>Outlook</th>\n      <th>Temperature</th>\n      <th>Humidity</th>\n      <th>Windy</th>\n      <th>Play?</th>\n    </tr>\n  </thead>\n  <tbody>\n    <tr>\n      <th>0</th>\n      <td>sunny</td>\n      <td>85</td>\n      <td>85</td>\n      <td>False</td>\n      <td>no</td>\n    </tr>\n    <tr>\n      <th>1</th>\n      <td>sunny</td>\n      <td>80</td>\n      <td>90</td>\n      <td>True</td>\n      <td>no</td>\n    </tr>\n    <tr>\n      <th>2</th>\n      <td>overcast</td>\n      <td>83</td>\n      <td>78</td>\n      <td>False</td>\n      <td>yes</td>\n    </tr>\n    <tr>\n      <th>3</th>\n      <td>rain</td>\n      <td>70</td>\n      <td>96</td>\n      <td>False</td>\n      <td>yes</td>\n    </tr>\n    <tr>\n      <th>4</th>\n      <td>rain</td>\n      <td>68</td>\n      <td>80</td>\n      <td>False</td>\n      <td>yes</td>\n    </tr>\n    <tr>\n      <th>5</th>\n      <td>rain</td>\n      <td>65</td>\n      <td>70</td>\n      <td>True</td>\n      <td>no</td>\n    </tr>\n    <tr>\n      <th>6</th>\n      <td>overcast</td>\n      <td>64</td>\n      <td>65</td>\n      <td>True</td>\n      <td>yes</td>\n    </tr>\n    <tr>\n      <th>7</th>\n      <td>sunny</td>\n      <td>72</td>\n      <td>95</td>\n      <td>False</td>\n      <td>no</td>\n    </tr>\n    <tr>\n      <th>8</th>\n      <td>sunny</td>\n      <td>69</td>\n      <td>70</td>\n      <td>False</td>\n      <td>yes</td>\n    </tr>\n    <tr>\n      <th>9</th>\n      <td>rain</td>\n      <td>75</td>\n      <td>80</td>\n      <td>False</td>\n      <td>yes</td>\n    </tr>\n    <tr>\n      <th>10</th>\n      <td>sunny</td>\n      <td>75</td>\n      <td>70</td>\n      <td>True</td>\n      <td>yes</td>\n    </tr>\n    <tr>\n      <th>11</th>\n      <td>overcast</td>\n      <td>72</td>\n      <td>90</td>\n      <td>True</td>\n      <td>yes</td>\n    </tr>\n    <tr>\n      <th>12</th>\n      <td>overcast</td>\n      <td>81</td>\n      <td>75</td>\n      <td>False</td>\n      <td>yes</td>\n    </tr>\n    <tr>\n      <th>13</th>\n      <td>rain</td>\n      <td>71</td>\n      <td>80</td>\n      <td>True</td>\n      <td>no</td>\n    </tr>\n  </tbody>\n</table>\n</div>"
     },
     "metadata": {},
     "execution_count": 3
    }
   ],
   "source": [
    "df = pd.read_csv(\"C:\\\\Users\\\\fabri\\\\OneDrive\\\\Documents\\\\DasText\\\\csvFiles\\\\weatherData.csv\")\n",
    "df"
   ]
  },
  {
   "cell_type": "code",
   "execution_count": 4,
   "metadata": {},
   "outputs": [
    {
     "output_type": "execute_result",
     "data": {
      "text/plain": "Outlook        object\nTemperature     int64\nHumidity        int64\nWindy            bool\nPlay?          object\ndtype: object"
     },
     "metadata": {},
     "execution_count": 4
    }
   ],
   "source": [
    "df.dtypes"
   ]
  },
  {
   "cell_type": "code",
   "execution_count": 5,
   "metadata": {},
   "outputs": [
    {
     "output_type": "execute_result",
     "data": {
      "text/plain": "    Outlook  Windy Play?\n0     sunny  False    no\n1     sunny   True    no\n2  overcast  False   yes\n3      rain  False   yes\n4      rain  False   yes",
      "text/html": "<div>\n<style scoped>\n    .dataframe tbody tr th:only-of-type {\n        vertical-align: middle;\n    }\n\n    .dataframe tbody tr th {\n        vertical-align: top;\n    }\n\n    .dataframe thead th {\n        text-align: right;\n    }\n</style>\n<table border=\"1\" class=\"dataframe\">\n  <thead>\n    <tr style=\"text-align: right;\">\n      <th></th>\n      <th>Outlook</th>\n      <th>Windy</th>\n      <th>Play?</th>\n    </tr>\n  </thead>\n  <tbody>\n    <tr>\n      <th>0</th>\n      <td>sunny</td>\n      <td>False</td>\n      <td>no</td>\n    </tr>\n    <tr>\n      <th>1</th>\n      <td>sunny</td>\n      <td>True</td>\n      <td>no</td>\n    </tr>\n    <tr>\n      <th>2</th>\n      <td>overcast</td>\n      <td>False</td>\n      <td>yes</td>\n    </tr>\n    <tr>\n      <th>3</th>\n      <td>rain</td>\n      <td>False</td>\n      <td>yes</td>\n    </tr>\n    <tr>\n      <th>4</th>\n      <td>rain</td>\n      <td>False</td>\n      <td>yes</td>\n    </tr>\n  </tbody>\n</table>\n</div>"
     },
     "metadata": {},
     "execution_count": 5
    }
   ],
   "source": [
    "####HOW TO MAP VALUES TO CATEGORICAL VALUES\n",
    "\n",
    "#Start by making df of just non-numericals you want to map to numerical values\n",
    "obj_df = df.select_dtypes(include=['object','bool']).copy()\n",
    "obj_df.head()"
   ]
  },
  {
   "cell_type": "code",
   "execution_count": 6,
   "metadata": {},
   "outputs": [
    {
     "output_type": "execute_result",
     "data": {
      "text/plain": "sunny       5\nrain        5\novercast    4\nName: Outlook, dtype: int64"
     },
     "metadata": {},
     "execution_count": 6
    }
   ],
   "source": [
    "#let's look at the unique values that we are going to map\n",
    "obj_df['Outlook'].value_counts()"
   ]
  },
  {
   "cell_type": "code",
   "execution_count": 7,
   "metadata": {},
   "outputs": [],
   "source": [
    "#now we map them\n",
    "cleanup_nums = {\"Outlook\":     {\"sunny\": 2, \"overcast\": 1, \"rain\": 0},\n",
    "                \"Windy\": {True: 1, False: 0},\n",
    "                \"Play?\": {\"no\": 0, \"yes\": 1}}"
   ]
  },
  {
   "cell_type": "code",
   "execution_count": 8,
   "metadata": {},
   "outputs": [
    {
     "output_type": "execute_result",
     "data": {
      "text/plain": "   Outlook  Temperature  Humidity  Windy  Play?\n0        2           85        85      0      0\n1        2           80        90      1      0\n2        1           83        78      0      1\n3        0           70        96      0      1\n4        0           68        80      0      1",
      "text/html": "<div>\n<style scoped>\n    .dataframe tbody tr th:only-of-type {\n        vertical-align: middle;\n    }\n\n    .dataframe tbody tr th {\n        vertical-align: top;\n    }\n\n    .dataframe thead th {\n        text-align: right;\n    }\n</style>\n<table border=\"1\" class=\"dataframe\">\n  <thead>\n    <tr style=\"text-align: right;\">\n      <th></th>\n      <th>Outlook</th>\n      <th>Temperature</th>\n      <th>Humidity</th>\n      <th>Windy</th>\n      <th>Play?</th>\n    </tr>\n  </thead>\n  <tbody>\n    <tr>\n      <th>0</th>\n      <td>2</td>\n      <td>85</td>\n      <td>85</td>\n      <td>0</td>\n      <td>0</td>\n    </tr>\n    <tr>\n      <th>1</th>\n      <td>2</td>\n      <td>80</td>\n      <td>90</td>\n      <td>1</td>\n      <td>0</td>\n    </tr>\n    <tr>\n      <th>2</th>\n      <td>1</td>\n      <td>83</td>\n      <td>78</td>\n      <td>0</td>\n      <td>1</td>\n    </tr>\n    <tr>\n      <th>3</th>\n      <td>0</td>\n      <td>70</td>\n      <td>96</td>\n      <td>0</td>\n      <td>1</td>\n    </tr>\n    <tr>\n      <th>4</th>\n      <td>0</td>\n      <td>68</td>\n      <td>80</td>\n      <td>0</td>\n      <td>1</td>\n    </tr>\n  </tbody>\n</table>\n</div>"
     },
     "metadata": {},
     "execution_count": 8
    }
   ],
   "source": [
    "#use replace method!\n",
    "df.replace(cleanup_nums, inplace=True)\n",
    "df.head()"
   ]
  },
  {
   "cell_type": "code",
   "execution_count": 9,
   "metadata": {},
   "outputs": [
    {
     "output_type": "execute_result",
     "data": {
      "text/plain": "Outlook        int64\nTemperature    int64\nHumidity       int64\nWindy          int64\nPlay?          int64\ndtype: object"
     },
     "metadata": {},
     "execution_count": 9
    }
   ],
   "source": [
    "#nice! Let's check the value types again now\n",
    "df.dtypes"
   ]
  },
  {
   "cell_type": "code",
   "execution_count": 18,
   "metadata": {},
   "outputs": [
    {
     "output_type": "stream",
     "name": "stdout",
     "text": "X data: \n[[ 2 85 85  0]\n [ 2 80 90  1]\n [ 1 83 78  0]\n [ 0 70 96  0]\n [ 0 68 80  0]]\n\nY data: \n[0 0 1 1 1]\n"
    }
   ],
   "source": [
    "#***To use scikit-learn library, we have to convert the Pandas data frame to a Numpy array\n",
    "X = df[['Outlook','Temperature','Humidity','Windy']].values\n",
    "print(\"X data: \\n\" + str(X[0:5]))\n",
    "y = df['Play?'].values\n",
    "print(\"\\nY data: \\n\"+str(y[0:5]))"
   ]
  },
  {
   "cell_type": "code",
   "execution_count": null,
   "metadata": {},
   "outputs": [],
   "source": []
  }
 ]
}