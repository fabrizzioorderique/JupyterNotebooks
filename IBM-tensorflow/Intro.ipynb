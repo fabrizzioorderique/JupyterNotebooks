{
 "metadata": {
  "language_info": {
   "codemirror_mode": {
    "name": "ipython",
    "version": 3
   },
   "file_extension": ".py",
   "mimetype": "text/x-python",
   "name": "python",
   "nbconvert_exporter": "python",
   "pygments_lexer": "ipython3",
   "version": 3
  },
  "orig_nbformat": 2,
  "kernelspec": {
   "name": "python_defaultSpec_1595766758141",
   "display_name": "Python 3.7.6 64-bit ('base': conda)"
  }
 },
 "nbformat": 4,
 "nbformat_minor": 2,
 "cells": [
  {
   "cell_type": "code",
   "execution_count": 1,
   "metadata": {},
   "outputs": [],
   "source": [
    "import tensorflow as tf\n",
    "if not tf.__version__ == '2.2.0':\n",
    "    print(tf.__version__)\n",
    "    raise ValueError('please upgrade to TensorFlow 2.2.0, or restart your Kernel (Kernel->Restart & Clear Output)')"
   ]
  },
  {
   "cell_type": "code",
   "execution_count": 3,
   "metadata": {},
   "outputs": [
    {
     "output_type": "execute_result",
     "data": {
      "text/plain": "<tf.Tensor: shape=(1,), dtype=int32, numpy=array([2])>"
     },
     "metadata": {},
     "execution_count": 3
    }
   ],
   "source": [
    "a = tf.constant([2], name = 'constant_a') #operation\n",
    "b = tf.constant([3], name = 'constant_b')\n",
    "a #prints shape, type)"
   ]
  },
  {
   "cell_type": "code",
   "execution_count": 4,
   "metadata": {
    "tags": []
   },
   "outputs": [
    {
     "output_type": "stream",
     "name": "stdout",
     "text": "2\n"
    }
   ],
   "source": [
    "#prints out actual value \n",
    "tf.print(a.numpy()[0])"
   ]
  },
  {
   "cell_type": "code",
   "execution_count": 6,
   "metadata": {
    "tags": []
   },
   "outputs": [
    {
     "output_type": "stream",
     "name": "stdout",
     "text": "Tensor(\"Add:0\", shape=(1,), dtype=int32)\n5\n"
    }
   ],
   "source": [
    "#tf.function annotation tells TensorFlow Autograph to transform function add into TensorFlow control flow, \n",
    "#which then defines the TensorFlow static execution graph.\n",
    "@tf.function\n",
    "def add(a,b):\n",
    "    c = tf.add(a, b)\n",
    "    #c = a + b is also a way to define the sum of the terms\n",
    "    print(c) #prints info about it like shape and type\n",
    "    return c\n",
    "\n",
    "result = add(a,b)\n",
    "tf.print(result[0]) #prints actual result\n"
   ]
  },
  {
   "cell_type": "code",
   "execution_count": 7,
   "metadata": {
    "tags": []
   },
   "outputs": [
    {
     "output_type": "stream",
     "name": "stdout",
     "text": "Scalar (1 entry):\n tf.Tensor(2, shape=(), dtype=int32) \n\nVector (3 entries) :\n tf.Tensor([5 6 2], shape=(3,), dtype=int32) \n\nMatrix (3x3 entries):\n tf.Tensor(\n[[1 2 3]\n [2 3 4]\n [3 4 5]], shape=(3, 3), dtype=int32) \n\nTensor (3x3x3 entries) :\n tf.Tensor(\n[[[ 1  2  3]\n  [ 2  3  4]\n  [ 3  4  5]]\n\n [[ 4  5  6]\n  [ 5  6  7]\n  [ 6  7  8]]\n\n [[ 7  8  9]\n  [ 8  9 10]\n  [ 9 10 11]]], shape=(3, 3, 3), dtype=int32) \n\n"
    }
   ],
   "source": [
    "#Multidimensional arrays in tf\n",
    "Scalar = tf.constant(2)\n",
    "Vector = tf.constant([5,6,2])\n",
    "Matrix = tf.constant([[1,2,3],[2,3,4],[3,4,5]])\n",
    "Tensor = tf.constant( [ [[1,2,3],[2,3,4],[3,4,5]] , [[4,5,6],[5,6,7],[6,7,8]] , [[7,8,9],[8,9,10],[9,10,11]] ] )\n",
    "\n",
    "print (\"Scalar (1 entry):\\n %s \\n\" % Scalar)\n",
    "print (\"Vector (3 entries) :\\n %s \\n\" % Vector)\n",
    "print (\"Matrix (3x3 entries):\\n %s \\n\" % Matrix)\n",
    "print (\"Tensor (3x3x3 entries) :\\n %s \\n\" % Tensor)"
   ]
  },
  {
   "cell_type": "code",
   "execution_count": 8,
   "metadata": {},
   "outputs": [
    {
     "output_type": "execute_result",
     "data": {
      "text/plain": "TensorShape([3, 3, 3])"
     },
     "metadata": {},
     "execution_count": 8
    }
   ],
   "source": [
    "#Use Scalar.shape or Vector.shape etc to get shape\n",
    "Tensor.shape"
   ]
  },
  {
   "cell_type": "code",
   "execution_count": 13,
   "metadata": {
    "tags": []
   },
   "outputs": [
    {
     "output_type": "stream",
     "name": "stdout",
     "text": "[6 8 5]\n"
    }
   ],
   "source": [
    "#adding a scalar to a vecotr will just return scalar of first terms added\n",
    "mResult = tf.add(Vector, Matrix)\n",
    "tf.print(mResult[0]) "
   ]
  },
  {
   "cell_type": "code",
   "execution_count": 17,
   "metadata": {
    "tags": []
   },
   "outputs": [
    {
     "output_type": "stream",
     "name": "stdout",
     "text": "Defined using tensorflow function :\ntf.Tensor(\n[[3 4 5]\n [4 5 6]\n [5 6 7]], shape=(3, 3), dtype=int32) \n\nDefined using normal expressions :\ntf.Tensor(\n[[3 4 5]\n [4 5 6]\n [5 6 7]], shape=(3, 3), dtype=int32)\n"
    }
   ],
   "source": [
    "\n",
    "Matrix_one = tf.constant([[1,2,3],\n",
    "                          [2,3,4],\n",
    "                          [3,4,5]])\n",
    "Matrix_two = tf.constant([[2,2,2],\n",
    "                          [2,2,2],\n",
    "                          [2,2,2]])\n",
    "@tf.function\n",
    "def add():\n",
    "    add_1_operation = tf.add(Matrix_one, Matrix_two)\n",
    "    return add_1_operation\n",
    "\n",
    "print (\"Defined using tensorflow function :\")\n",
    "add_1_operation = add()\n",
    "print(add_1_operation, '\\n')\n",
    "print (\"Defined using normal expressions :\")\n",
    "add_2_operation = Matrix_one + Matrix_two\n",
    "print(add_2_operation)\n",
    "\n",
    "#BOTH give us element-wise 'multiplication', also known as Hadamard Product (result[i] = matrix1[i]+matri2[i])"
   ]
  },
  {
   "cell_type": "code",
   "execution_count": 18,
   "metadata": {
    "tags": []
   },
   "outputs": [
    {
     "output_type": "stream",
     "name": "stdout",
     "text": "Defined using tensorflow function :\ntf.Tensor(\n[[13 18]\n [18 25]], shape=(2, 2), dtype=int32)\n"
    }
   ],
   "source": [
    "Matrix_one = tf.constant([[2,3],\n",
    "                          [3,4]])\n",
    "Matrix_two = tf.constant([[2,3],\n",
    "                          [3,4]])\n",
    "@tf.function\n",
    "def mathmul():\n",
    "  return tf.matmul(Matrix_one, Matrix_two)\n",
    "\n",
    "mul_operation = mathmul()\n",
    "\n",
    "print (\"Defined using tensorflow function :\")\n",
    "print(mul_operation)\n",
    "\n",
    "#THIS gives us the regular matrix multiplication product a * b"
   ]
  },
  {
   "cell_type": "code",
   "execution_count": 21,
   "metadata": {
    "tags": []
   },
   "outputs": [
    {
     "output_type": "stream",
     "name": "stdout",
     "text": "tf.Tensor(1, shape=(), dtype=int32)\ntf.Tensor(2, shape=(), dtype=int32)\ntf.Tensor(3, shape=(), dtype=int32)\n"
    }
   ],
   "source": [
    "####Variables\n",
    "v = tf.Variable(0)\n",
    "\n",
    "@tf.function\n",
    "def increment_by_one(v):\n",
    "    v = tf.add(v,1)\n",
    "    return v\n",
    "\n",
    "for i in range(3):\n",
    "    v = increment_by_one(v)\n",
    "    print(v)"
   ]
  },
  {
   "cell_type": "code",
   "execution_count": 22,
   "metadata": {
    "tags": []
   },
   "outputs": [
    {
     "output_type": "stream",
     "name": "stdout",
     "text": "c =: tf.Tensor([7], shape=(1,), dtype=int32)\nd =: tf.Tensor([3], shape=(1,), dtype=int32)\n"
    }
   ],
   "source": [
    "###operations \n",
    "a = tf.constant([5])\n",
    "b = tf.constant([2])\n",
    "c = tf.add(a,b)\n",
    "d = tf.subtract(a,b)\n",
    "\n",
    "print ('c =: %s' % c)\n",
    "print ('d =: %s' % d)"
   ]
  },
  {
   "cell_type": "code",
   "execution_count": null,
   "metadata": {},
   "outputs": [],
   "source": []
  }
 ]
}