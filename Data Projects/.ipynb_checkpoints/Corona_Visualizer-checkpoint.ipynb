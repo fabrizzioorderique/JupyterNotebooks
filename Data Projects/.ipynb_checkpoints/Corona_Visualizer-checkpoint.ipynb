{
 "cells": [
  {
   "cell_type": "code",
   "execution_count": 2,
   "metadata": {},
   "outputs": [],
   "source": [
    "#import neccessary libraries\n",
    "import pandas as pd\n",
    "import matplotlib.pyplot as plt\n",
    "import numpy as np"
   ]
  },
  {
   "cell_type": "code",
   "execution_count": null,
   "metadata": {},
   "outputs": [],
   "source": [
    "#read in the data\n",
    "NYT_US = 'https://raw.githubusercontent.com/nytimes/covid-19-data/master/us.csv'\n",
    "NYT_counties = 'https://raw.githubusercontent.com/nytimes/covid-19-data/master/us-counties.csv'\n",
    "NYT_states = 'https://raw.githubusercontent.com/nytimes/covid-19-data/master/us-states.csv'\n",
    "JH_data = 'https://raw.githubusercontent.com/CSSEGISandData/COVID-19/master/csse_covid_19_data/csse_covid_19_time_series/time_series_covid19_deaths_US.csv'\n",
    "\n",
    "#create dataframe\n",
    "df = pd.read_csv(NYT_US, error_bad_lines=False)\n",
    "df['time_since_Jan21'] = df.index\n",
    "\n",
    "#scale down cases by 100k\n",
    "POPULATION_NORMAL = 100000\n",
    "df['cases'] /= POPULATION_NORMAL #cases = new cases\n",
    "df.head()"
   ]
  },
  {
   "cell_type": "code",
   "execution_count": null,
   "metadata": {},
   "outputs": [],
   "source": [
    "#creating the training and testing data sets \n",
    "msk = np.random.rand(len(df)) < 0.8\n",
    "train = df[msk]\n",
    "test = df[~msk]\n",
    "\n",
    "#we use PolynomialFeatures function in Scikit-learn library\n",
    "from sklearn.preprocessing import PolynomialFeatures\n",
    "from sklearn import linear_model\n",
    "\n",
    "#training x and y's\n",
    "train_x = np.asanyarray(train[['time_since_Jan21']])\n",
    "train_y = np.asanyarray(train[['cases']])\n",
    "\n",
    "#testing x and y's\n",
    "test_x = np.asanyarray(test[['time_since_Jan21']])\n",
    "test_y = np.asanyarray(test[['cases']])\n",
    "\n",
    "#We specifiy the degree\n",
    "poly = PolynomialFeatures(degree=2)\n",
    "#fit_transform takes our x values, and outputs a multi dim. array of each x^0, x^1, x^2\n",
    "train_x_poly = poly.fit_transform(train_x) \n",
    "# train_x_poly\n",
    "\n",
    "#Each list now resembles the coeffecients from a mulitple linear regression, we use a linear regression!\n",
    "clf = linear_model.LinearRegression()\n",
    "train_y_ = clf.fit(train_x_poly, train_y)\n",
    "# The coefficients\n",
    "# print ('Coefficients: ', clf.coef_)\n",
    "# print ('Intercept: ',clf.intercept_)\n",
    "\n",
    "##PLOT: Actual Data\n",
    "plt.figure(figsize=(8,8))\n",
    "plt.scatter(df['time_since_Jan21'],df['cases'],color='blue')\n",
    "plt.title(\"Cases in the US\")\n",
    "plt.xlabel('Days since January 21st')\n",
    "plt.ylabel('Cases per '+str(POPULATION_NORMAL))\n",
    "plt.xticks(rotation=45)\n",
    "##PLOT: Predicted Data\n",
    "XX = np.arange(0.0, 200.0, 0.1) ##like linspace, it just creates a series of x coordinates\n",
    "yy = clf.intercept_[0]+ clf.coef_[0][1]*XX+ clf.coef_[0][2]*np.power(XX, 2)\n",
    "plt.plot(XX, yy, '-r' )"
   ]
  },
  {
   "cell_type": "markdown",
   "metadata": {},
   "source": []
  },
  {
   "cell_type": "code",
   "execution_count": null,
   "metadata": {},
   "outputs": [],
   "source": [
    "####EVALUATION -- can skip all the regressions and do the evaulation\n",
    "from sklearn.metrics import r2_score\n",
    "\n",
    "test_x_poly = poly.fit_transform(test_x)\n",
    "test_y_ = clf.predict(test_x_poly)\n",
    "\n",
    "print(\"Mean absolute error: %.2f\" % np.mean(np.absolute(test_y_ - test_y)))\n",
    "print(\"Residual sum of squares (MSE): %.2f\" % np.mean((test_y_ - test_y) ** 2))\n",
    "print(\"R2-score: %.2f\" % r2_score(test_y_ , test_y) )"
   ]
  },
  {
   "cell_type": "code",
   "execution_count": null,
   "metadata": {},
   "outputs": [],
   "source": [
    "################################################################################################\n",
    "################################################################################################\n",
    "# Corona Visualizer by State\n",
    "################################################################################################\n",
    "################################################################################################\n",
    "\n",
    "#create dataframe\n",
    "df = pd.read_csv(NYT_states, error_bad_lines=False)\n",
    "\n",
    "#Get state of interest and create df for state\n",
    "myState = \"Georgia\"\n",
    "state_df = df[df.state == myState]\n",
    "INITIAL_DATE = state_df['date'].iloc[0] # not all states started recording on same date\n",
    "state_df['days_since_'+INITIAL_DATE] = list(range(0, len(state_df)))\n",
    "\n",
    "#scale down cases by 100k\n",
    "POPULATION_NORMAL = 10000\n",
    "state_df['cases'] /= POPULATION_NORMAL #cases = total cases\n",
    "\n",
    "#show created df\n",
    "state_df.head()"
   ]
  },
  {
   "cell_type": "code",
   "execution_count": null,
   "metadata": {},
   "outputs": [],
   "source": [
    "#creating the training and testing data sets \n",
    "msk = np.random.rand(len(state_df)) < 0.8\n",
    "train = state_df[msk]\n",
    "test = state_df[~msk]\n",
    "\n",
    "#we use PolynomialFeatures function in Scikit-learn library\n",
    "from sklearn.preprocessing import PolynomialFeatures\n",
    "from sklearn import linear_model\n",
    "\n",
    "#training x and y's\n",
    "train_x = np.asanyarray(train[['days_since_'+INITIAL_DATE]])\n",
    "train_y = np.asanyarray(train[['cases']])\n",
    "\n",
    "#testing x and y's\n",
    "test_x = np.asanyarray(test[['days_since_'+INITIAL_DATE]])\n",
    "test_y = np.asanyarray(test[['cases']])\n",
    "\n",
    "#We specifiy the degree\n",
    "poly = PolynomialFeatures(degree=2)\n",
    "#fit_transform takes our x values, and outputs a multi dim. array of each x^0, x^1, x^2\n",
    "train_x_poly = poly.fit_transform(train_x) \n",
    "# train_x_poly\n",
    "\n",
    "#Each list now resembles the coeffecients from a mulitple linear regression, we use a linear regression!\n",
    "clf = linear_model.LinearRegression()\n",
    "train_y_ = clf.fit(train_x_poly, train_y)\n",
    "# The coefficients\n",
    "# print ('Coefficients: ', clf.coef_)\n",
    "# print ('Intercept: ',clf.intercept_)\n",
    "\n",
    "##PLOT: Actual Data\n",
    "plt.figure(figsize=(8,8))\n",
    "plt.scatter(state_df['days_since_'+INITIAL_DATE], state_df['cases'], color='blue')\n",
    "plt.title(\"Cases in \"+ myState)\n",
    "plt.xlabel('Days since '+INITIAL_DATE)\n",
    "plt.ylabel('Cases per '+str(POPULATION_NORMAL))\n",
    "plt.xticks(rotation=45)\n",
    "##PLOT: Predicted Data\n",
    "extendedDomain = len(state_df)*1.25\n",
    "XX = np.arange(0.0, extendedDomain, 0.1) ##like linspace, it just creates a series of x coordinates\n",
    "yy = clf.intercept_[0]+ clf.coef_[0][1]*XX+ clf.coef_[0][2]*np.power(XX, 2)\n",
    "plt.plot(XX, yy, '-r' )"
   ]
  },
  {
   "cell_type": "code",
   "execution_count": null,
   "metadata": {},
   "outputs": [],
   "source": [
    "####EVALUATION -- can skip all the regressions and do the evaulation\n",
    "from sklearn.metrics import r2_score\n",
    "\n",
    "test_x_poly = poly.fit_transform(test_x)\n",
    "test_y_ = clf.predict(test_x_poly)\n",
    "\n",
    "print(\"Mean absolute error: %.2f\" % np.mean(np.absolute(test_y_ - test_y)))\n",
    "print(\"Residual sum of squares (MSE): %.2f\" % np.mean((test_y_ - test_y) ** 2))\n",
    "print(\"R2-score: %.2f\" % r2_score(test_y_ , test_y) )"
   ]
  },
  {
   "cell_type": "code",
   "execution_count": 8,
   "metadata": {},
   "outputs": [
    {
     "name": "stderr",
     "output_type": "stream",
     "text": [
      "C:\\Users\\fabri\\miniconda3\\lib\\site-packages\\ipykernel_launcher.py:16: SettingWithCopyWarning: \n",
      "A value is trying to be set on a copy of a slice from a DataFrame.\n",
      "Try using .loc[row_indexer,col_indexer] = value instead\n",
      "\n",
      "See the caveats in the documentation: https://pandas.pydata.org/pandas-docs/stable/user_guide/indexing.html#returning-a-view-versus-a-copy\n",
      "  app.launch_new_instance()\n",
      "C:\\Users\\fabri\\miniconda3\\lib\\site-packages\\ipykernel_launcher.py:20: SettingWithCopyWarning: \n",
      "A value is trying to be set on a copy of a slice from a DataFrame.\n",
      "Try using .loc[row_indexer,col_indexer] = value instead\n",
      "\n",
      "See the caveats in the documentation: https://pandas.pydata.org/pandas-docs/stable/user_guide/indexing.html#returning-a-view-versus-a-copy\n"
     ]
    },
    {
     "data": {
      "text/html": [
       "<div>\n",
       "<style scoped>\n",
       "    .dataframe tbody tr th:only-of-type {\n",
       "        vertical-align: middle;\n",
       "    }\n",
       "\n",
       "    .dataframe tbody tr th {\n",
       "        vertical-align: top;\n",
       "    }\n",
       "\n",
       "    .dataframe thead th {\n",
       "        text-align: right;\n",
       "    }\n",
       "</style>\n",
       "<table border=\"1\" class=\"dataframe\">\n",
       "  <thead>\n",
       "    <tr style=\"text-align: right;\">\n",
       "      <th></th>\n",
       "      <th>date</th>\n",
       "      <th>county</th>\n",
       "      <th>state</th>\n",
       "      <th>fips</th>\n",
       "      <th>cases</th>\n",
       "      <th>deaths</th>\n",
       "      <th>days_since_2020-03-20</th>\n",
       "    </tr>\n",
       "  </thead>\n",
       "  <tbody>\n",
       "    <tr>\n",
       "      <th>5369</th>\n",
       "      <td>2020-03-20</td>\n",
       "      <td>Muscogee</td>\n",
       "      <td>Georgia</td>\n",
       "      <td>13215.0</td>\n",
       "      <td>0.001</td>\n",
       "      <td>0</td>\n",
       "      <td>0</td>\n",
       "    </tr>\n",
       "    <tr>\n",
       "      <th>6303</th>\n",
       "      <td>2020-03-21</td>\n",
       "      <td>Muscogee</td>\n",
       "      <td>Georgia</td>\n",
       "      <td>13215.0</td>\n",
       "      <td>0.002</td>\n",
       "      <td>0</td>\n",
       "      <td>1</td>\n",
       "    </tr>\n",
       "    <tr>\n",
       "      <th>7349</th>\n",
       "      <td>2020-03-22</td>\n",
       "      <td>Muscogee</td>\n",
       "      <td>Georgia</td>\n",
       "      <td>13215.0</td>\n",
       "      <td>0.002</td>\n",
       "      <td>0</td>\n",
       "      <td>2</td>\n",
       "    </tr>\n",
       "    <tr>\n",
       "      <th>8501</th>\n",
       "      <td>2020-03-23</td>\n",
       "      <td>Muscogee</td>\n",
       "      <td>Georgia</td>\n",
       "      <td>13215.0</td>\n",
       "      <td>0.002</td>\n",
       "      <td>0</td>\n",
       "      <td>3</td>\n",
       "    </tr>\n",
       "    <tr>\n",
       "      <th>9759</th>\n",
       "      <td>2020-03-24</td>\n",
       "      <td>Muscogee</td>\n",
       "      <td>Georgia</td>\n",
       "      <td>13215.0</td>\n",
       "      <td>0.004</td>\n",
       "      <td>0</td>\n",
       "      <td>4</td>\n",
       "    </tr>\n",
       "  </tbody>\n",
       "</table>\n",
       "</div>"
      ],
      "text/plain": [
       "            date    county    state     fips  cases  deaths  \\\n",
       "5369  2020-03-20  Muscogee  Georgia  13215.0  0.001       0   \n",
       "6303  2020-03-21  Muscogee  Georgia  13215.0  0.002       0   \n",
       "7349  2020-03-22  Muscogee  Georgia  13215.0  0.002       0   \n",
       "8501  2020-03-23  Muscogee  Georgia  13215.0  0.002       0   \n",
       "9759  2020-03-24  Muscogee  Georgia  13215.0  0.004       0   \n",
       "\n",
       "      days_since_2020-03-20  \n",
       "5369                      0  \n",
       "6303                      1  \n",
       "7349                      2  \n",
       "8501                      3  \n",
       "9759                      4  "
      ]
     },
     "execution_count": 8,
     "metadata": {},
     "output_type": "execute_result"
    }
   ],
   "source": [
    "################################################################################################\n",
    "################################################################################################\n",
    "# Corona Visualizer by County\n",
    "################################################################################################\n",
    "################################################################################################\n",
    "\n",
    "NYT_counties = 'https://raw.githubusercontent.com/nytimes/covid-19-data/master/us-counties.csv'\n",
    "#create dataframe\n",
    "df = pd.read_csv(NYT_counties,error_bad_lines=False)\n",
    "myState = \"Georgia\"\n",
    "myCounty = \"Muscogee\"\n",
    "state_df = df[df.state == myState]\n",
    "county_df = state_df[state_df.county == myCounty]\n",
    "\n",
    "INITIAL_DATE = county_df['date'].iloc[0] # not all states started recording on same date\n",
    "county_df['days_since_'+INITIAL_DATE] = list(range(0, len(county_df)))\n",
    "\n",
    "#scale down cases by 100k\n",
    "POPULATION_NORMAL = 1000\n",
    "county_df['cases'] /= POPULATION_NORMAL #cases = total cases\n",
    "county_df.head()"
   ]
  },
  {
   "cell_type": "code",
   "execution_count": 19,
   "metadata": {},
   "outputs": [
    {
     "name": "stdout",
     "output_type": "stream",
     "text": [
      "Mean absolute error: 0.09\n",
      "Residual sum of squares (MSE): 0.01\n",
      "R2-score: 0.95\n"
     ]
    },
    {
     "data": {
      "image/png": "[encoded data removed]",
      "text/plain": [
       "<Figure size 576x576 with 1 Axes>"
      ]
     },
     "metadata": {
      "needs_background": "light"
     },
     "output_type": "display_data"
    }
   ],
   "source": [
    "#creating the training and testing data sets \n",
    "msk = np.random.rand(len(county_df)) < 0.8\n",
    "train = county_df[msk]\n",
    "test = county_df[~msk]\n",
    "\n",
    "#SPECIFY DEGREE\n",
    "DEGREE = 2\n",
    "\n",
    "#we use PolynomialFeatures function in Scikit-learn library\n",
    "from sklearn.preprocessing import PolynomialFeatures\n",
    "from sklearn import linear_model\n",
    "\n",
    "#training x and y's\n",
    "train_x = np.asanyarray(train[['days_since_'+INITIAL_DATE]])\n",
    "train_y = np.asanyarray(train[['cases']])\n",
    "\n",
    "#testing x and y's\n",
    "test_x = np.asanyarray(test[['days_since_'+INITIAL_DATE]])\n",
    "test_y = np.asanyarray(test[['cases']])\n",
    "\n",
    "#We specifiy the degree\n",
    "poly = PolynomialFeatures(degree=DEGREE)\n",
    "#fit_transform takes our x values, and outputs a multi dim. array of each x^0, x^1, x^2\n",
    "train_x_poly = poly.fit_transform(train_x) \n",
    "# train_x_poly\n",
    "\n",
    "#Each list now resembles the coeffecients from a mulitple linear regression, we use a linear regression!\n",
    "clf = linear_model.LinearRegression()\n",
    "train_y_ = clf.fit(train_x_poly, train_y)\n",
    "# The coefficients\n",
    "# print ('Coefficients: ', clf.coef_)\n",
    "# print ('Intercept: ',clf.intercept_)\n",
    "\n",
    "##PLOT: Actual Data\n",
    "plt.figure(figsize=(8,8))\n",
    "plt.scatter(county_df['days_since_'+INITIAL_DATE], county_df['cases'], color='blue')\n",
    "plt.title(\"Cases in \"+ myState)\n",
    "plt.xlabel('Days since '+INITIAL_DATE)\n",
    "plt.ylabel('Cases per '+str(POPULATION_NORMAL))\n",
    "plt.xticks(rotation=45)\n",
    "##PLOT: Predicted Data\n",
    "extendedDomain = len(county_df)*1.25\n",
    "XX = np.arange(0.0, extendedDomain, 0.1) ##like linspace, it just creates a series of x coordinates\n",
    "#GOES UP TO DEGREE SPECIFIED:\n",
    "yy = clf.intercept_[0]\n",
    "for n in range(DEGREE+1):\n",
    "    yy+= clf.coef_[0][n]*np.power(XX,n)\n",
    "# clf.coef_[0][1]*XX+ clf.coef_[0][2]*np.power(XX, 2)+clf.coef_[0][3]*np.power(XX, 3)\n",
    "plt.plot(XX, yy, '-r' )\n",
    "\n",
    "####EVALUATION -- can skip all the regressions and do the evaulation\n",
    "from sklearn.metrics import r2_score\n",
    "test_x_poly = poly.fit_transform(test_x)\n",
    "test_y_ = clf.predict(test_x_poly)\n",
    "print(\"Mean absolute error: %.2f\" % np.mean(np.absolute(test_y_ - test_y)))\n",
    "print(\"Residual sum of squares (MSE): %.2f\" % np.mean((test_y_ - test_y) ** 2))\n",
    "print(\"R2-score: %.2f\" % r2_score(test_y_ , test_y) )"
   ]
  },
  {
   "cell_type": "code",
   "execution_count": 198,
   "metadata": {},
   "outputs": [
    {
     "name": "stderr",
     "output_type": "stream",
     "text": [
      "C:\\Users\\fabri\\miniconda3\\lib\\site-packages\\ipykernel_launcher.py:16: SettingWithCopyWarning: \n",
      "A value is trying to be set on a copy of a slice from a DataFrame.\n",
      "Try using .loc[row_indexer,col_indexer] = value instead\n",
      "\n",
      "See the caveats in the documentation: https://pandas.pydata.org/pandas-docs/stable/user_guide/indexing.html#returning-a-view-versus-a-copy\n",
      "  app.launch_new_instance()\n",
      "C:\\Users\\fabri\\miniconda3\\lib\\site-packages\\ipykernel_launcher.py:20: SettingWithCopyWarning: \n",
      "A value is trying to be set on a copy of a slice from a DataFrame.\n",
      "Try using .loc[row_indexer,col_indexer] = value instead\n",
      "\n",
      "See the caveats in the documentation: https://pandas.pydata.org/pandas-docs/stable/user_guide/indexing.html#returning-a-view-versus-a-copy\n"
     ]
    },
    {
     "data": {
      "text/html": [
       "<div>\n",
       "<style scoped>\n",
       "    .dataframe tbody tr th:only-of-type {\n",
       "        vertical-align: middle;\n",
       "    }\n",
       "\n",
       "    .dataframe tbody tr th {\n",
       "        vertical-align: top;\n",
       "    }\n",
       "\n",
       "    .dataframe thead th {\n",
       "        text-align: right;\n",
       "    }\n",
       "</style>\n",
       "<table border=\"1\" class=\"dataframe\">\n",
       "  <thead>\n",
       "    <tr style=\"text-align: right;\">\n",
       "      <th></th>\n",
       "      <th>date</th>\n",
       "      <th>county</th>\n",
       "      <th>state</th>\n",
       "      <th>fips</th>\n",
       "      <th>cases</th>\n",
       "      <th>deaths</th>\n",
       "      <th>days_since_2020-03-14</th>\n",
       "    </tr>\n",
       "  </thead>\n",
       "  <tbody>\n",
       "    <tr>\n",
       "      <th>1992</th>\n",
       "      <td>2020-03-14</td>\n",
       "      <td>Hartford</td>\n",
       "      <td>Connecticut</td>\n",
       "      <td>9003.0</td>\n",
       "      <td>0.001</td>\n",
       "      <td>0</td>\n",
       "      <td>0</td>\n",
       "    </tr>\n",
       "    <tr>\n",
       "      <th>2374</th>\n",
       "      <td>2020-03-15</td>\n",
       "      <td>Hartford</td>\n",
       "      <td>Connecticut</td>\n",
       "      <td>9003.0</td>\n",
       "      <td>0.003</td>\n",
       "      <td>0</td>\n",
       "      <td>1</td>\n",
       "    </tr>\n",
       "    <tr>\n",
       "      <th>2809</th>\n",
       "      <td>2020-03-16</td>\n",
       "      <td>Hartford</td>\n",
       "      <td>Connecticut</td>\n",
       "      <td>9003.0</td>\n",
       "      <td>0.004</td>\n",
       "      <td>0</td>\n",
       "      <td>2</td>\n",
       "    </tr>\n",
       "    <tr>\n",
       "      <th>3291</th>\n",
       "      <td>2020-03-17</td>\n",
       "      <td>Hartford</td>\n",
       "      <td>Connecticut</td>\n",
       "      <td>9003.0</td>\n",
       "      <td>0.007</td>\n",
       "      <td>0</td>\n",
       "      <td>3</td>\n",
       "    </tr>\n",
       "    <tr>\n",
       "      <th>3846</th>\n",
       "      <td>2020-03-18</td>\n",
       "      <td>Hartford</td>\n",
       "      <td>Connecticut</td>\n",
       "      <td>9003.0</td>\n",
       "      <td>0.011</td>\n",
       "      <td>0</td>\n",
       "      <td>4</td>\n",
       "    </tr>\n",
       "  </tbody>\n",
       "</table>\n",
       "</div>"
      ],
      "text/plain": [
       "            date    county        state    fips  cases  deaths  \\\n",
       "1992  2020-03-14  Hartford  Connecticut  9003.0  0.001       0   \n",
       "2374  2020-03-15  Hartford  Connecticut  9003.0  0.003       0   \n",
       "2809  2020-03-16  Hartford  Connecticut  9003.0  0.004       0   \n",
       "3291  2020-03-17  Hartford  Connecticut  9003.0  0.007       0   \n",
       "3846  2020-03-18  Hartford  Connecticut  9003.0  0.011       0   \n",
       "\n",
       "      days_since_2020-03-14  \n",
       "1992                      0  \n",
       "2374                      1  \n",
       "2809                      2  \n",
       "3291                      3  \n",
       "3846                      4  "
      ]
     },
     "execution_count": 198,
     "metadata": {},
     "output_type": "execute_result"
    }
   ],
   "source": [
    "################################################################################################\n",
    "################################################################################################\n",
    "# Corona Visualizer by County --> LOGISTIC REGRESSION\n",
    "################################################################################################\n",
    "################################################################################################\n",
    "\n",
    "NYT_counties = 'https://raw.githubusercontent.com/nytimes/covid-19-data/master/us-counties.csv'\n",
    "#create dataframe\n",
    "df = pd.read_csv(NYT_counties,error_bad_lines=False)\n",
    "myState = \"Connecticut\"\n",
    "myCounty = \"Hartford\"\n",
    "state_df = df[df.state == myState]\n",
    "county_df = state_df[state_df.county == myCounty]\n",
    "\n",
    "INITIAL_DATE = county_df['date'].iloc[0] # not all states started recording on same date\n",
    "county_df['days_since_'+INITIAL_DATE] = list(range(0, len(county_df)))\n",
    "\n",
    "#scale down cases by 100k\n",
    "POPULATION_NORMAL = 1000\n",
    "county_df['cases'] /= POPULATION_NORMAL #cases = total cases\n",
    "county_df.head()"
   ]
  },
  {
   "cell_type": "code",
   "execution_count": 199,
   "metadata": {},
   "outputs": [
    {
     "name": "stdout",
     "output_type": "stream",
     "text": [
      "Mean absolute error: 0.60\n",
      "Residual sum of squares (MSE): 0.60\n",
      "R2-score: 0.96\n"
     ]
    },
    {
     "data": {
      "image/png": "[encoded data removed]",
      "text/plain": [
       "<Figure size 576x576 with 1 Axes>"
      ]
     },
     "metadata": {
      "needs_background": "light"
     },
     "output_type": "display_data"
    }
   ],
   "source": [
    "#####################POLY REGRESSION\n",
    "#creating the training and testing data sets \n",
    "msk = np.random.rand(len(county_df)) < 0.8\n",
    "train = county_df[msk]\n",
    "test = county_df[~msk]\n",
    "\n",
    "#SPECIFY DEGREE\n",
    "DEGREE = 2\n",
    "\n",
    "#we use PolynomialFeatures function in Scikit-learn library\n",
    "from sklearn.preprocessing import PolynomialFeatures\n",
    "from sklearn import linear_model\n",
    "\n",
    "#training x and y's\n",
    "train_x = np.asanyarray(train[['days_since_'+INITIAL_DATE]])\n",
    "train_y = np.asanyarray(train[['cases']])\n",
    "\n",
    "#testing x and y's\n",
    "test_x = np.asanyarray(test[['days_since_'+INITIAL_DATE]])\n",
    "test_y = np.asanyarray(test[['cases']])\n",
    "\n",
    "#We specifiy the degree\n",
    "poly = PolynomialFeatures(degree=DEGREE)\n",
    "#fit_transform takes our x values, and outputs a multi dim. array of each x^0, x^1, x^2\n",
    "train_x_poly = poly.fit_transform(train_x) \n",
    "# train_x_poly\n",
    "\n",
    "#Each list now resembles the coeffecients from a mulitple linear regression, we use a linear regression!\n",
    "clf = linear_model.LinearRegression()\n",
    "train_y_ = clf.fit(train_x_poly, train_y)\n",
    "# The coefficients\n",
    "# print ('Coefficients: ', clf.coef_)\n",
    "# print ('Intercept: ',clf.intercept_)\n",
    "\n",
    "##PLOT: Actual Data\n",
    "plt.figure(figsize=(8,8))\n",
    "plt.scatter(county_df['days_since_'+INITIAL_DATE], county_df['cases'], color='blue')\n",
    "plt.title(\"Cases in \"+ myState)\n",
    "plt.xlabel('Days since '+INITIAL_DATE)\n",
    "plt.ylabel('Cases per '+str(POPULATION_NORMAL))\n",
    "plt.xticks(rotation=45)\n",
    "##PLOT: Predicted Data\n",
    "extendedDomain = len(county_df)*1.25\n",
    "XX = np.arange(0.0, extendedDomain, 0.1) ##like linspace, it just creates a series of x coordinates\n",
    "#GOES UP TO DEGREE SPECIFIED:\n",
    "yy = clf.intercept_[0]\n",
    "for n in range(DEGREE+1):\n",
    "    yy+= clf.coef_[0][n]*np.power(XX,n)\n",
    "# clf.coef_[0][1]*XX+ clf.coef_[0][2]*np.power(XX, 2)+clf.coef_[0][3]*np.power(XX, 3)\n",
    "plt.plot(XX, yy, '-r' )\n",
    "\n",
    "####EVALUATION -- can skip all the regressions and do the evaulation\n",
    "from sklearn.metrics import r2_score\n",
    "test_x_poly = poly.fit_transform(test_x)\n",
    "test_y_ = clf.predict(test_x_poly)\n",
    "print(\"Mean absolute error: %.2f\" % np.mean(np.absolute(test_y_ - test_y)))\n",
    "print(\"Residual sum of squares (MSE): %.2f\" % np.mean((test_y_ - test_y) ** 2))\n",
    "print(\"R2-score: %.2f\" % r2_score(test_y_ , test_y) )"
   ]
  },
  {
   "cell_type": "code",
   "execution_count": 200,
   "metadata": {},
   "outputs": [],
   "source": [
    "#################### LOGISTIC REGRESSION\n",
    "import pandas as pd\n",
    "import numpy as np\n",
    "import scipy.optimize\n",
    "\n",
    "def sigmoid(p,x):\n",
    "    x0,y0,c,k=p\n",
    "    y = c / (1 + np.exp(-k*(x-x0))) + y0\n",
    "    return y\n",
    "\n",
    "def residuals(p,x,y):\n",
    "    return y - sigmoid(p,x)\n",
    "\n",
    "def resize(arr,lower=0.0,upper=1.0):\n",
    "    arr=arr.copy()\n",
    "    if lower>upper: lower,upper=upper,lower\n",
    "    arr -= arr.min()\n",
    "    arr = np.multiply(arr,(upper-lower)/arr.max(),casting=\"unsafe\")\n",
    "    arr += lower\n",
    "    return arr"
   ]
  },
  {
   "cell_type": "code",
   "execution_count": 215,
   "metadata": {},
   "outputs": [],
   "source": [
    "from numpy import longdouble\n",
    "           \n",
    "msk = np.random.rand(len(county_df)) < 0.8\n",
    "train = county_df[msk]\n",
    "test = county_df[~msk]\n",
    "#create train and test\n",
    "x_train = np.array(train[['days_since_'+INITIAL_DATE]],dtype=longdouble).squeeze()\n",
    "y_train = np.array(train[['cases']],dtype=longdouble).squeeze()\n",
    "x_test = np.array(test[['days_since_'+INITIAL_DATE]],dtype=longdouble).squeeze()\n",
    "y_test = np.array(test[['cases']],dtype=longdouble).squeeze()\n",
    "\n",
    "# x_train=resize(x_train,lower=0.3)\n",
    "# y_train=resize(y_train,lower=0.3)"
   ]
  },
  {
   "cell_type": "code",
   "execution_count": 216,
   "metadata": {},
   "outputs": [
    {
     "data": {
      "text/plain": [
       "array([  0.,   1.,   2.,   3.,   4.,   5.,   6.,   7.,   9.,  11.,  12.,\n",
       "        13.,  14.,  15.,  16.,  17.,  18.,  19.,  20.,  21.,  22.,  24.,\n",
       "        25.,  26.,  27.,  29.,  30.,  31.,  33.,  34.,  35.,  36.,  37.,\n",
       "        39.,  41.,  42.,  43.,  44.,  45.,  47.,  48.,  49.,  50.,  51.,\n",
       "        52.,  53.,  54.,  55.,  56.,  58.,  59.,  60.,  61.,  63.,  64.,\n",
       "        65.,  66.,  67.,  68.,  69.,  70.,  71.,  72.,  73.,  74.,  75.,\n",
       "        76.,  77.,  78.,  80.,  81.,  82.,  83.,  84.,  85.,  86.,  88.,\n",
       "        89.,  90.,  91.,  92.,  93.,  94.,  95.,  96.,  97.,  98., 100.,\n",
       "       102., 103., 104., 105., 106., 107., 108., 109., 110., 112., 113.,\n",
       "       114., 115., 116., 117., 118.], dtype=float64)"
      ]
     },
     "execution_count": 216,
     "metadata": {},
     "output_type": "execute_result"
    }
   ],
   "source": [
    "x_train"
   ]
  },
  {
   "cell_type": "code",
   "execution_count": 209,
   "metadata": {},
   "outputs": [
    {
     "name": "stdout",
     "output_type": "stream",
     "text": [
      "x0 = 61.37210092575859\n",
      "y0 = 10.84413953595455\n",
      "c = -7.770408766035034\n",
      "k = -916.103394974083\n",
      "\n"
     ]
    },
    {
     "name": "stderr",
     "output_type": "stream",
     "text": [
      "C:\\Users\\fabri\\miniconda3\\lib\\site-packages\\ipykernel_launcher.py:8: RuntimeWarning: overflow encountered in exp\n",
      "  \n"
     ]
    }
   ],
   "source": [
    "p_guess=(np.median(x),np.median(y),1.0,1.0)\n",
    "p, cov, infodict, mesg, ier = scipy.optimize.leastsq(residuals,p_guess,args=(x_train,y_train),full_output=1)  \n",
    "x0,y0,c,k=p\n",
    "print('''\\\n",
    "x0 = {x0}\n",
    "y0 = {y0}\n",
    "c = {c}\n",
    "k = {k}\n",
    "'''.format(x0=x0,y0=y0,c=c,k=k))"
   ]
  },
  {
   "cell_type": "code",
   "execution_count": 204,
   "metadata": {},
   "outputs": [
    {
     "name": "stderr",
     "output_type": "stream",
     "text": [
      "C:\\Users\\fabri\\miniconda3\\lib\\site-packages\\ipykernel_launcher.py:8: RuntimeWarning: overflow encountered in exp\n",
      "  \n"
     ]
    },
    {
     "data": {
      "image/png": "[encoded data removed]",
      "text/plain": [
       "<Figure size 432x288 with 1 Axes>"
      ]
     },
     "metadata": {
      "needs_background": "light"
     },
     "output_type": "display_data"
    }
   ],
   "source": [
    "XX = np.linspace(0, 160, 1500)\n",
    "YY = sigmoid(p,XX)\n",
    "plt.plot(x, y, 'bo', XX, YY, '-r')\n",
    "plt.show()"
   ]
  },
  {
   "cell_type": "code",
   "execution_count": 205,
   "metadata": {},
   "outputs": [
    {
     "name": "stdout",
     "output_type": "stream",
     "text": [
      "Mean absolute error: 1.50\n",
      "Residual sum of squares (MSE): 3.30\n",
      "R2-score: 0.78\n"
     ]
    },
    {
     "name": "stderr",
     "output_type": "stream",
     "text": [
      "C:\\Users\\fabri\\miniconda3\\lib\\site-packages\\ipykernel_launcher.py:8: RuntimeWarning: overflow encountered in exp\n",
      "  \n"
     ]
    }
   ],
   "source": [
    "##Evaluation\n",
    "y_model = sigmoid(p,x_test)\n",
    "print(\"Mean absolute error: %.2f\" % np.mean(np.absolute(y_model - y_test)))\n",
    "print(\"Residual sum of squares (MSE): %.2f\" % np.mean((y_model - y_test) ** 2))\n",
    "print(\"R2-score: %.2f\" % r2_score(y_model, y_test) )"
   ]
  },
  {
   "cell_type": "code",
   "execution_count": 206,
   "metadata": {},
   "outputs": [
    {
     "data": {
      "text/plain": [
       "array([ 3.07373077,  3.07373077,  3.07373077,  3.07373077,  3.07373077,\n",
       "        3.07373077,  3.07373077,  3.07373077,  3.07373077,  3.07373077,\n",
       "       10.84413954, 10.84413954, 10.84413954, 10.84413954, 10.84413954,\n",
       "       10.84413954, 10.84413954, 10.84413954, 10.84413954, 10.84413954,\n",
       "       10.84413954, 10.84413954, 10.84413954, 10.84413954])"
      ]
     },
     "execution_count": 206,
     "metadata": {},
     "output_type": "execute_result"
    }
   ],
   "source": [
    "y_model"
   ]
  },
  {
   "cell_type": "code",
   "execution_count": 207,
   "metadata": {},
   "outputs": [
    {
     "data": {
      "text/plain": [
       "array([3.0000e-03, 5.4000e-02, 6.1000e-02, 1.8900e-01, 7.2600e-01,\n",
       "       2.3700e+00, 3.3510e+00, 4.5700e+00, 5.3880e+00, 5.9310e+00,\n",
       "       8.1260e+00, 8.9570e+00, 9.0500e+00, 9.2990e+00, 9.9620e+00,\n",
       "       1.0207e+01, 1.0844e+01, 1.0924e+01, 1.1261e+01, 1.1322e+01,\n",
       "       1.1414e+01, 1.1728e+01, 1.1866e+01, 1.1892e+01])"
      ]
     },
     "execution_count": 207,
     "metadata": {},
     "output_type": "execute_result"
    }
   ],
   "source": [
    "y_test"
   ]
  },
  {
   "cell_type": "code",
   "execution_count": null,
   "metadata": {},
   "outputs": [],
   "source": []
  }
 ],
 "metadata": {
  "kernelspec": {
   "display_name": "Python 3",
   "language": "python",
   "name": "python3"
  },
  "language_info": {
   "codemirror_mode": {
    "name": "ipython",
    "version": 3
   },
   "file_extension": ".py",
   "mimetype": "text/x-python",
   "name": "python",
   "nbconvert_exporter": "python",
   "pygments_lexer": "ipython3",
   "version": "3.7.6"
  }
 },
 "nbformat": 4,
 "nbformat_minor": 4
}
